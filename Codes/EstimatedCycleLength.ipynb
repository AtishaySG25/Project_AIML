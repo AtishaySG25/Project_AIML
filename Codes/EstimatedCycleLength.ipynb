{
 "cells": [
  {
   "cell_type": "code",
   "execution_count": 7,
   "metadata": {},
   "outputs": [],
   "source": [
    "import numpy as np\n",
    "import scipy.stats as mode"
   ]
  },
  {
   "cell_type": "code",
   "execution_count": 10,
   "metadata": {},
   "outputs": [],
   "source": [
    "#my code\n",
    "def EstimatedCycleLength(walk_sample):\n",
    "    L = len(walk_sample) #samples in the walk\n",
    "    C = (L/2) #centre point of the walk\n",
    "    N = 80  #samples in the reference window\n",
    "\n",
    "    start = C - (N/2)  #first index of the referenceWindow\n",
    "    end   = C + (N/2) - 1  #last index of the referenceWindow\n",
    "    ref_window = walk_sample[start:end]\n",
    "\n",
    "    D = np.zeros(L - N)\n",
    "\n",
    "    for i in range (1, L-1):\n",
    "        subSegment = walk_sample[i:i+N-1]\n",
    "        D[i] = np.linalg.norm(ref_window - subSegment)\n",
    "\n",
    "    minimum_D = min(D)\n",
    "    difference = np.diff(np.where(minimum_D)[0])\n",
    "\n",
    "    if mode(difference) != None:\n",
    "        return mode(difference)\n",
    "    else:\n",
    "        return mean(difference)\n",
    "        \n",
    "\n"
   ]
  }
 ],
 "metadata": {
  "kernelspec": {
   "display_name": "AIMLSem1",
   "language": "python",
   "name": "python3"
  },
  "language_info": {
   "codemirror_mode": {
    "name": "ipython",
    "version": 3
   },
   "file_extension": ".py",
   "mimetype": "text/x-python",
   "name": "python",
   "nbconvert_exporter": "python",
   "pygments_lexer": "ipython3",
   "version": "3.9.17"
  }
 },
 "nbformat": 4,
 "nbformat_minor": 2
}
