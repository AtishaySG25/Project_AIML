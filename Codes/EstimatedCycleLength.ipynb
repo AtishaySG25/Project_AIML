{
 "cells": [
  {
   "cell_type": "code",
   "execution_count": 7,
   "metadata": {},
   "outputs": [],
   "source": [
    "import numpy as np\n",
    "import scipy.stats as mode"
   ]
  },
  {
   "cell_type": "code",
   "execution_count": 10,
   "metadata": {},
   "outputs": [],
   "source": [
    "#my code\n",
    "def EstimatedCycleLength(walk_sample):\n",
    "    L = len(walk_sample) #samples in the walk\n",
    "    C = (L/2) #centre point of the walk\n",
    "    N = 80  #samples in the reference window\n",
    "\n",
    "    start = C - (N/2)  #first index of the referenceWindow\n",
    "    end   = C + (N/2) - 1  #last index of the referenceWindow\n",
    "    ref_window = walk_sample[start:end]\n",
    "\n",
    "    D = np.zeros(L - N)\n",
    "\n",
    "    for i in range (1, L-1):\n",
    "        subSegment = walk_sample[i:i+N-1]\n",
    "        D[i] = np.linalg.norm(ref_window - subSegment)\n",
    "\n",
    "    minimum_D = min(D)\n",
    "    difference = np.diff(np.where(minimum_D)[0])\n",
    "\n",
    "    if mode(difference) != None:\n",
    "        return mode(difference)\n",
    "    else:\n",
    "        return mean(difference)\n",
    "        \n",
    "\n"
   ]
  },
  {
   "cell_type": "code",
   "execution_count": 11,
   "metadata": {},
   "outputs": [
    {
     "name": "stdout",
     "output_type": "stream",
     "text": [
      "Estimated Cycle Length: None\n"
     ]
    }
   ],
   "source": [
    "#chatgpt code\n",
    "import numpy as np\n",
    "from scipy.spatial.distance import euclidean\n",
    "from scipy.stats import mode\n",
    "\n",
    "def calculate_estimated_cycle_length(walk, baseline_length=80):\n",
    "    # Step 1: Get the length of the walk\n",
    "    L = len(walk)\n",
    "\n",
    "    # Step 2: Calculate the center point of the walk\n",
    "    C = L // 2\n",
    "\n",
    "    # Step 3: Set the number of samples in the reference window\n",
    "    N = baseline_length\n",
    "\n",
    "    # Step 4: Calculate the first index of the reference window\n",
    "    Start = C - N // 2\n",
    "\n",
    "    # Step 5: Calculate the last index of the reference window\n",
    "    End = C + N // 2 - 1\n",
    "\n",
    "    # Step 6: Get the reference window from the walk\n",
    "    ReferenceWindow = walk[Start:End + 1]\n",
    "\n",
    "    # Initialize an array to store Euclidean distances\n",
    "    D = np.zeros(L - N)\n",
    "\n",
    "    # Step 7-10: Calculate Euclidean distances for each subsegment\n",
    "    for i in range(L - N):\n",
    "        sub_segment = walk[i:i + N]\n",
    "        D[i] = euclidean(ReferenceWindow, sub_segment)\n",
    "\n",
    "    # Step 11: Find indices of local minima in the distance vector D\n",
    "    minimas = np.r_[True, D[1:] < D[:-1]] & np.r_[D[:-1] < D[1:], True]\n",
    "\n",
    "    # Step 12: Calculate the difference of every two adjacent elements of minimas vector\n",
    "    difference = np.diff(np.where(minimas)[0])\n",
    "\n",
    "    # Step 13-16: Calculate the estimated cycle length\n",
    "    # Step 13-16: Calculate the estimated cycle length\n",
    "    mode_result = mode(difference)\n",
    "    if not np.isnan(mode_result.mode):\n",
    "        cycle_length = int(mode_result.mode)\n",
    "    else:\n",
    "        cycle_length = int(np.average(difference))\n",
    "\n",
    "\n",
    "# Example usage\n",
    "walk_signal = np.random.rand(200)  # Replace this with your actual walk signal\n",
    "estimated_cycle_length = calculate_estimated_cycle_length(walk_signal)\n",
    "print(\"Estimated Cycle Length:\", estimated_cycle_length)\n"
   ]
  }
 ],
 "metadata": {
  "kernelspec": {
   "display_name": "AIMLSem1",
   "language": "python",
   "name": "python3"
  },
  "language_info": {
   "codemirror_mode": {
    "name": "ipython",
    "version": 3
   },
   "file_extension": ".py",
   "mimetype": "text/x-python",
   "name": "python",
   "nbconvert_exporter": "python",
   "pygments_lexer": "ipython3",
   "version": "3.9.17"
  }
 },
 "nbformat": 4,
 "nbformat_minor": 2
}
